{
 "cells": [
  {
   "cell_type": "markdown",
   "metadata": {},
   "source": [
    "# Function to pull US google search trends for a list of words"
   ]
  },
  {
   "cell_type": "code",
   "execution_count": 1,
   "metadata": {},
   "outputs": [],
   "source": [
    "# Function borrows from the following documentation:\n",
    "    # https://pypi.org/project/pytrends/#interest-over-time\n",
    "    \n",
    "def google_trend_csv(list_of_words, csv_path):\n",
    "    \n",
    "    # Importing necessary library and setting location to US\n",
    "    from pytrends.request import TrendReq\n",
    "    pytrends = TrendReq(hl='en-US', tz=360)\n",
    "\n",
    "    # Creating empty dataframe in preparation for google trend pull\n",
    "    google_trend_df = pd.DataFrame()\n",
    "\n",
    "    for word in list_of_words:\n",
    "        # Creating interest over time dataframe using words in the nested list\n",
    "        kw_list = [word]\n",
    "        pytrends.build_payload(kw_list, cat=0, timeframe='all', geo='', gprop='')\n",
    "        temp = pytrends.interest_over_time()\n",
    "\n",
    "        # Concatenating the results to dataframe on each iteration\n",
    "        google_trend_df = pd.concat([google_trend_df, temp], axis=1, sort=False)\n",
    "\n",
    "    # Dropping non-needed columns    \n",
    "    try:\n",
    "        google_trend_df = google_trend_df.drop('isPartial' , axis='columns')\n",
    "        google_trend_df.to_csv(csv_path)\n",
    "    except:\n",
    "        google_trend_df.to_csv(csv_path)\n",
    "        "
   ]
  },
  {
   "cell_type": "code",
   "execution_count": null,
   "metadata": {},
   "outputs": [],
   "source": []
  }
 ],
 "metadata": {
  "kernelspec": {
   "display_name": "Python 3",
   "language": "python",
   "name": "python3"
  },
  "language_info": {
   "codemirror_mode": {
    "name": "ipython",
    "version": 3
   },
   "file_extension": ".py",
   "mimetype": "text/x-python",
   "name": "python",
   "nbconvert_exporter": "python",
   "pygments_lexer": "ipython3",
   "version": "3.7.6"
  }
 },
 "nbformat": 4,
 "nbformat_minor": 4
}
